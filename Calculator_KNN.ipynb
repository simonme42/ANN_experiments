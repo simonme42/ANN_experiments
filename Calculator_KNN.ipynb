{
  "nbformat": 4,
  "nbformat_minor": 0,
  "metadata": {
    "colab": {
      "name": "Calculator_KNN",
      "provenance": [],
      "collapsed_sections": [],
      "authorship_tag": "ABX9TyP3BUi5oBO9fGHaAe/DzpM0",
      "include_colab_link": true
    },
    "kernelspec": {
      "name": "python3",
      "display_name": "Python 3"
    },
    "accelerator": "GPU"
  },
  "cells": [
    {
      "cell_type": "markdown",
      "metadata": {
        "id": "view-in-github",
        "colab_type": "text"
      },
      "source": [
        "<a href=\"https://colab.research.google.com/github/simonme42/ANN_experiments/blob/master/Calculator_KNN.ipynb\" target=\"_parent\"><img src=\"https://colab.research.google.com/assets/colab-badge.svg\" alt=\"Open In Colab\"/></a>"
      ]
    },
    {
      "cell_type": "code",
      "metadata": {
        "id": "XwTa7yVFjNIq",
        "colab_type": "code",
        "colab": {}
      },
      "source": [
        "import numpy as np\n",
        "\n",
        "import tensorflow as tf\n",
        "from tensorflow import keras\n",
        "from tensorflow.keras import layers\n",
        "\n",
        "from sklearn.preprocessing import MinMaxScaler"
      ],
      "execution_count": 0,
      "outputs": []
    },
    {
      "cell_type": "code",
      "metadata": {
        "id": "plD8soMGbMvB",
        "colab_type": "code",
        "colab": {}
      },
      "source": [
        "# create the training data depending on what to learn and what the max number is\n",
        "def create_target_data(learn=\"+\", range=20):\n",
        "  if learn == \"+\":\n",
        "    X_unscaled = np.random.randint(range, size=(10000, 2))\n",
        "    Y_unscaled = (X_unscaled[:,0]+X_unscaled[:,1]).reshape(-1, 1)\n",
        "    X_test_unscaled = np.random.randint(range, size=(1000, 2))\n",
        "    Y_test_unscaled = (X_test_unscaled[:,0]+X_test_unscaled[:,1]).reshape(-1, 1)\n",
        "  elif learn == \"-\":\n",
        "    X_unscaled = np.random.randint(range, size=(10000, 2))\n",
        "    Y_unscaled = (X_unscaled[:,0]-X_unscaled[:,1]).reshape(-1, 1)\n",
        "    X_test_unscaled = np.random.randint(range, size=(1000, 2))\n",
        "    Y_test_unscaled = (X_test_unscaled[:,0]-X_test_unscaled[:,1]).reshape(-1, 1)\n",
        "  elif learn == \"*\":\n",
        "    X_unscaled = np.random.randint(20, size=(10000, 2))\n",
        "    Y_unscaled = (X_unscaled[:,0]*X_unscaled[:,1]).reshape(-1, 1)\n",
        "    X_test_unscaled = np.random.randint(range, size=(1000, 2))\n",
        "    Y_test_unscaled = (X_test_unscaled[:,0]*X_test_unscaled[:,1]).reshape(-1, 1)\n",
        "  elif learn == \"/\":\n",
        "    X_unscaled = np.random.randint(1,range, size=(10000, 2))\n",
        "    Y_unscaled = (X_unscaled[:,0]/X_unscaled[:,1]).reshape(-1, 1)\n",
        "    X_test_unscaled = np.random.randint(1,range, size=(1000, 2))\n",
        "    Y_test_unscaled = (X_test_unscaled[:,0]/X_test_unscaled[:,1]).reshape(-1, 1)\n",
        "  return X_test_unscaled, Y_test_unscaled, X_unscaled, Y_unscaled"
      ],
      "execution_count": 0,
      "outputs": []
    },
    {
      "cell_type": "code",
      "metadata": {
        "id": "yT6LSls881sx",
        "colab_type": "code",
        "colab": {
          "base_uri": "https://localhost:8080/",
          "height": 357
        },
        "outputId": "78a41498-afba-4027-97a2-70a28b0db26b"
      },
      "source": [
        "(X_test_unscaled, Y_test_unscaled,\n",
        "    X_unscaled, Y_unscaled) = create_target_data(learn=\"/\", range = 40)\n",
        "\n",
        "print(X_unscaled[0:10])\n",
        "print(Y_unscaled[0:10])"
      ],
      "execution_count": 75,
      "outputs": [
        {
          "output_type": "stream",
          "text": [
            "[[25 34]\n",
            " [19 15]\n",
            " [10 19]\n",
            " [ 5 16]\n",
            " [ 9 27]\n",
            " [29 19]\n",
            " [ 6 15]\n",
            " [34 25]\n",
            " [24 19]\n",
            " [38 25]]\n",
            "[[0.73529412]\n",
            " [1.26666667]\n",
            " [0.52631579]\n",
            " [0.3125    ]\n",
            " [0.33333333]\n",
            " [1.52631579]\n",
            " [0.4       ]\n",
            " [1.36      ]\n",
            " [1.26315789]\n",
            " [1.52      ]]\n"
          ],
          "name": "stdout"
        }
      ]
    },
    {
      "cell_type": "code",
      "metadata": {
        "id": "FDFlN7Eg_JPN",
        "colab_type": "code",
        "colab": {
          "base_uri": "https://localhost:8080/",
          "height": 391
        },
        "outputId": "75e25154-9e4f-4ead-d4d3-4415fde24e63"
      },
      "source": [
        "# scale the training data\n",
        "X_scaler = MinMaxScaler()\n",
        "Y_scaler = MinMaxScaler()\n",
        "\n",
        "X = X_scaler.fit_transform(X_unscaled)\n",
        "Y = Y_scaler.fit_transform(Y_unscaled)\n",
        "\n",
        "print(X.shape)\n",
        "print(Y.shape)\n",
        "print(X[0:10])\n",
        "print(Y[0:10])"
      ],
      "execution_count": 76,
      "outputs": [
        {
          "output_type": "stream",
          "text": [
            "(10000, 2)\n",
            "(10000, 1)\n",
            "[[0.63157895 0.86842105]\n",
            " [0.47368421 0.36842105]\n",
            " [0.23684211 0.47368421]\n",
            " [0.10526316 0.39473684]\n",
            " [0.21052632 0.68421053]\n",
            " [0.73684211 0.47368421]\n",
            " [0.13157895 0.36842105]\n",
            " [0.86842105 0.63157895]\n",
            " [0.60526316 0.47368421]\n",
            " [0.97368421 0.63157895]]\n",
            "[[0.0182082 ]\n",
            " [0.03184211]\n",
            " [0.01284626]\n",
            " [0.0073602 ]\n",
            " [0.00789474]\n",
            " [0.03850416]\n",
            " [0.00960526]\n",
            " [0.03423684]\n",
            " [0.03175208]\n",
            " [0.03834211]]\n"
          ],
          "name": "stdout"
        }
      ]
    },
    {
      "cell_type": "code",
      "metadata": {
        "id": "P2iPVcst9bcw",
        "colab_type": "code",
        "colab": {}
      },
      "source": [
        "# set up ann model\n",
        "calc_model = tf.keras.Sequential()\n",
        "calc_model.add(layers.Dense(64, activation='relu'))\n",
        "#calc_model.add(layers.Dense(64, activation='relu'))\n",
        "calc_model.add(layers.Dense(1))\n",
        "\n",
        "calc_model.compile(optimizer=\"adam\",\n",
        "              loss='mean_squared_error',\n",
        "              metrics=['mse'])"
      ],
      "execution_count": 0,
      "outputs": []
    },
    {
      "cell_type": "code",
      "metadata": {
        "id": "HJZ3vMyjACh3",
        "colab_type": "code",
        "outputId": "0068114b-0943-4294-9acb-5669e9960896",
        "colab": {
          "base_uri": "https://localhost:8080/",
          "height": 1000
        }
      },
      "source": [
        "# train ann model\n",
        "calc_model.fit(X,Y, epochs=50)"
      ],
      "execution_count": 78,
      "outputs": [
        {
          "output_type": "stream",
          "text": [
            "Train on 10000 samples\n",
            "Epoch 1/50\n",
            "10000/10000 [==============================] - 1s 76us/sample - loss: 0.0107 - mean_squared_error: 0.0107\n",
            "Epoch 2/50\n",
            "10000/10000 [==============================] - 1s 68us/sample - loss: 0.0047 - mean_squared_error: 0.0047\n",
            "Epoch 3/50\n",
            "10000/10000 [==============================] - 1s 69us/sample - loss: 0.0036 - mean_squared_error: 0.0036\n",
            "Epoch 4/50\n",
            "10000/10000 [==============================] - 1s 68us/sample - loss: 0.0029 - mean_squared_error: 0.0029\n",
            "Epoch 5/50\n",
            "10000/10000 [==============================] - 1s 72us/sample - loss: 0.0024 - mean_squared_error: 0.0024\n",
            "Epoch 6/50\n",
            "10000/10000 [==============================] - 1s 65us/sample - loss: 0.0019 - mean_squared_error: 0.0019\n",
            "Epoch 7/50\n",
            "10000/10000 [==============================] - 1s 68us/sample - loss: 0.0016 - mean_squared_error: 0.0016\n",
            "Epoch 8/50\n",
            "10000/10000 [==============================] - 1s 68us/sample - loss: 0.0014 - mean_squared_error: 0.0014\n",
            "Epoch 9/50\n",
            "10000/10000 [==============================] - 1s 69us/sample - loss: 0.0011 - mean_squared_error: 0.0011\n",
            "Epoch 10/50\n",
            "10000/10000 [==============================] - 1s 68us/sample - loss: 9.2870e-04 - mean_squared_error: 9.2870e-04\n",
            "Epoch 11/50\n",
            "10000/10000 [==============================] - 1s 68us/sample - loss: 7.9109e-04 - mean_squared_error: 7.9109e-04\n",
            "Epoch 12/50\n",
            "10000/10000 [==============================] - 1s 67us/sample - loss: 6.6184e-04 - mean_squared_error: 6.6184e-04\n",
            "Epoch 13/50\n",
            "10000/10000 [==============================] - 1s 69us/sample - loss: 5.5723e-04 - mean_squared_error: 5.5723e-04\n",
            "Epoch 14/50\n",
            "10000/10000 [==============================] - 1s 66us/sample - loss: 4.9150e-04 - mean_squared_error: 4.9150e-04\n",
            "Epoch 15/50\n",
            "10000/10000 [==============================] - 1s 67us/sample - loss: 4.1142e-04 - mean_squared_error: 4.1142e-04\n",
            "Epoch 16/50\n",
            "10000/10000 [==============================] - 1s 67us/sample - loss: 3.4572e-04 - mean_squared_error: 3.4572e-04\n",
            "Epoch 17/50\n",
            "10000/10000 [==============================] - 1s 66us/sample - loss: 3.0210e-04 - mean_squared_error: 3.0210e-04\n",
            "Epoch 18/50\n",
            "10000/10000 [==============================] - 1s 69us/sample - loss: 2.4897e-04 - mean_squared_error: 2.4897e-04\n",
            "Epoch 19/50\n",
            "10000/10000 [==============================] - 1s 70us/sample - loss: 2.1855e-04 - mean_squared_error: 2.1855e-04\n",
            "Epoch 20/50\n",
            "10000/10000 [==============================] - 1s 68us/sample - loss: 1.9521e-04 - mean_squared_error: 1.9521e-04\n",
            "Epoch 21/50\n",
            "10000/10000 [==============================] - 1s 66us/sample - loss: 1.5447e-04 - mean_squared_error: 1.5447e-04\n",
            "Epoch 22/50\n",
            "10000/10000 [==============================] - 1s 69us/sample - loss: 1.2771e-04 - mean_squared_error: 1.2771e-04\n",
            "Epoch 23/50\n",
            "10000/10000 [==============================] - 1s 66us/sample - loss: 1.1221e-04 - mean_squared_error: 1.1221e-04\n",
            "Epoch 24/50\n",
            "10000/10000 [==============================] - 1s 67us/sample - loss: 9.8858e-05 - mean_squared_error: 9.8858e-05\n",
            "Epoch 25/50\n",
            "10000/10000 [==============================] - 1s 69us/sample - loss: 7.5274e-05 - mean_squared_error: 7.5274e-05\n",
            "Epoch 26/50\n",
            "10000/10000 [==============================] - 1s 70us/sample - loss: 5.7922e-05 - mean_squared_error: 5.7922e-05\n",
            "Epoch 27/50\n",
            "10000/10000 [==============================] - 1s 65us/sample - loss: 4.8554e-05 - mean_squared_error: 4.8554e-05\n",
            "Epoch 28/50\n",
            "10000/10000 [==============================] - 1s 67us/sample - loss: 3.9111e-05 - mean_squared_error: 3.9111e-05\n",
            "Epoch 29/50\n",
            "10000/10000 [==============================] - 1s 69us/sample - loss: 2.9935e-05 - mean_squared_error: 2.9935e-05\n",
            "Epoch 30/50\n",
            "10000/10000 [==============================] - 1s 67us/sample - loss: 2.2272e-05 - mean_squared_error: 2.2272e-05\n",
            "Epoch 31/50\n",
            "10000/10000 [==============================] - 1s 67us/sample - loss: 1.9223e-05 - mean_squared_error: 1.9223e-05\n",
            "Epoch 32/50\n",
            "10000/10000 [==============================] - 1s 68us/sample - loss: 1.4472e-05 - mean_squared_error: 1.4472e-05\n",
            "Epoch 33/50\n",
            "10000/10000 [==============================] - 1s 66us/sample - loss: 1.1599e-05 - mean_squared_error: 1.1599e-05\n",
            "Epoch 34/50\n",
            "10000/10000 [==============================] - 1s 69us/sample - loss: 9.4744e-06 - mean_squared_error: 9.4744e-06\n",
            "Epoch 35/50\n",
            "10000/10000 [==============================] - 1s 65us/sample - loss: 8.5910e-06 - mean_squared_error: 8.5910e-06\n",
            "Epoch 36/50\n",
            "10000/10000 [==============================] - 1s 69us/sample - loss: 6.6964e-06 - mean_squared_error: 6.6964e-06\n",
            "Epoch 37/50\n",
            "10000/10000 [==============================] - 1s 65us/sample - loss: 6.1051e-06 - mean_squared_error: 6.1051e-06\n",
            "Epoch 38/50\n",
            "10000/10000 [==============================] - 1s 64us/sample - loss: 6.5548e-06 - mean_squared_error: 6.5548e-06\n",
            "Epoch 39/50\n",
            "10000/10000 [==============================] - 1s 68us/sample - loss: 5.3467e-06 - mean_squared_error: 5.3467e-06\n",
            "Epoch 40/50\n",
            "10000/10000 [==============================] - 1s 73us/sample - loss: 4.8640e-06 - mean_squared_error: 4.8640e-06\n",
            "Epoch 41/50\n",
            "10000/10000 [==============================] - 1s 67us/sample - loss: 4.1945e-06 - mean_squared_error: 4.1945e-06\n",
            "Epoch 42/50\n",
            "10000/10000 [==============================] - 1s 73us/sample - loss: 4.1589e-06 - mean_squared_error: 4.1589e-06\n",
            "Epoch 43/50\n",
            "10000/10000 [==============================] - 1s 77us/sample - loss: 3.3387e-06 - mean_squared_error: 3.3387e-06\n",
            "Epoch 44/50\n",
            "10000/10000 [==============================] - 1s 70us/sample - loss: 4.1029e-06 - mean_squared_error: 4.1029e-06\n",
            "Epoch 45/50\n",
            "10000/10000 [==============================] - 1s 68us/sample - loss: 4.6023e-06 - mean_squared_error: 4.6023e-06\n",
            "Epoch 46/50\n",
            "10000/10000 [==============================] - 1s 75us/sample - loss: 4.0533e-06 - mean_squared_error: 4.0533e-06\n",
            "Epoch 47/50\n",
            "10000/10000 [==============================] - 1s 68us/sample - loss: 4.2695e-06 - mean_squared_error: 4.2695e-06\n",
            "Epoch 48/50\n",
            "10000/10000 [==============================] - 1s 69us/sample - loss: 3.9861e-06 - mean_squared_error: 3.9861e-06\n",
            "Epoch 49/50\n",
            "10000/10000 [==============================] - 1s 68us/sample - loss: 3.1943e-06 - mean_squared_error: 3.1943e-06\n",
            "Epoch 50/50\n",
            "10000/10000 [==============================] - 1s 74us/sample - loss: 2.9076e-06 - mean_squared_error: 2.9076e-06\n"
          ],
          "name": "stdout"
        },
        {
          "output_type": "execute_result",
          "data": {
            "text/plain": [
              "<tensorflow.python.keras.callbacks.History at 0x7fd2141f4b70>"
            ]
          },
          "metadata": {
            "tags": []
          },
          "execution_count": 78
        }
      ]
    },
    {
      "cell_type": "code",
      "metadata": {
        "id": "YNaCoY80CJut",
        "colab_type": "code",
        "outputId": "b8708fd8-480d-4125-afa1-1a524a2b07fb",
        "colab": {
          "base_uri": "https://localhost:8080/",
          "height": 357
        }
      },
      "source": [
        "# scale test data and validate trained neural net\n",
        "X_test = X_scaler.transform(X_test_unscaled)\n",
        "\n",
        "Y_pred = calc_model.predict(X_test)\n",
        "Y_pred_rescaled = Y_scaler.inverse_transform(Y_pred)\n",
        "\n",
        "print(Y_test_unscaled[0:10])\n",
        "print(Y_pred_rescaled[0:10])"
      ],
      "execution_count": 70,
      "outputs": [
        {
          "output_type": "stream",
          "text": [
            "[[1.66666667]\n",
            " [1.14285714]\n",
            " [0.75      ]\n",
            " [0.25      ]\n",
            " [0.11764706]\n",
            " [5.33333333]\n",
            " [0.63636364]\n",
            " [0.4       ]\n",
            " [8.5       ]\n",
            " [3.        ]]\n",
            "[[1.6719533 ]\n",
            " [1.1373466 ]\n",
            " [0.7594288 ]\n",
            " [0.26820865]\n",
            " [0.11384234]\n",
            " [5.332091  ]\n",
            " [0.6471986 ]\n",
            " [0.4183327 ]\n",
            " [8.461978  ]\n",
            " [3.020291  ]]\n"
          ],
          "name": "stdout"
        }
      ]
    },
    {
      "cell_type": "code",
      "metadata": {
        "id": "xBsGdrQNC5sH",
        "colab_type": "code",
        "outputId": "08eb9a29-2197-4bb1-d488-f9139e0ef14a",
        "colab": {
          "base_uri": "https://localhost:8080/",
          "height": 187
        }
      },
      "source": [
        "# compute the prediction error\n",
        "error = Y_pred_rescaled - Y_test_unscaled\n",
        "\n",
        "error[0:10]"
      ],
      "execution_count": 71,
      "outputs": [
        {
          "output_type": "execute_result",
          "data": {
            "text/plain": [
              "array([[ 0.00528665],\n",
              "       [-0.00551052],\n",
              "       [ 0.0094288 ],\n",
              "       [ 0.01820865],\n",
              "       [-0.00380472],\n",
              "       [-0.00124248],\n",
              "       [ 0.01083498],\n",
              "       [ 0.0183327 ],\n",
              "       [-0.03802204],\n",
              "       [ 0.02029109]])"
            ]
          },
          "metadata": {
            "tags": []
          },
          "execution_count": 71
        }
      ]
    }
  ]
}