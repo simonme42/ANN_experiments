{
  "nbformat": 4,
  "nbformat_minor": 0,
  "metadata": {
    "colab": {
      "name": "Calculator_ANN",
      "provenance": [],
      "collapsed_sections": [],
      "authorship_tag": "ABX9TyPGpYkcmPsODyyHqm+C7AJm",
      "include_colab_link": true
    },
    "kernelspec": {
      "name": "python3",
      "display_name": "Python 3"
    },
    "accelerator": "GPU"
  },
  "cells": [
    {
      "cell_type": "markdown",
      "metadata": {
        "id": "view-in-github",
        "colab_type": "text"
      },
      "source": [
        "<a href=\"https://colab.research.google.com/github/simonme42/ANN_experiments/blob/master/Calculator_ANN.ipynb\" target=\"_parent\"><img src=\"https://colab.research.google.com/assets/colab-badge.svg\" alt=\"Open In Colab\"/></a>"
      ]
    },
    {
      "cell_type": "code",
      "metadata": {
        "id": "XwTa7yVFjNIq",
        "colab_type": "code",
        "colab": {}
      },
      "source": [
        "import numpy as np\n",
        "\n",
        "import tensorflow as tf\n",
        "from tensorflow import keras\n",
        "from tensorflow.keras import layers\n",
        "\n",
        "from sklearn.preprocessing import MinMaxScaler"
      ],
      "execution_count": 0,
      "outputs": []
    },
    {
      "cell_type": "code",
      "metadata": {
        "id": "plD8soMGbMvB",
        "colab_type": "code",
        "colab": {}
      },
      "source": [
        "# create the training data depending on what to learn and what the max number is\n",
        "def create_target_data(learn=\"+\", range=20):\n",
        "  if learn == \"+\":\n",
        "    X_unscaled = np.random.randint(range, size=(10000, 2))\n",
        "    Y_unscaled = (X_unscaled[:,0]+X_unscaled[:,1]).reshape(-1, 1)\n",
        "    X_test_unscaled = np.random.randint(range, size=(1000, 2))\n",
        "    Y_test_unscaled = (X_test_unscaled[:,0]+X_test_unscaled[:,1]).reshape(-1, 1)\n",
        "  elif learn == \"-\":\n",
        "    X_unscaled = np.random.randint(range, size=(10000, 2))\n",
        "    Y_unscaled = (X_unscaled[:,0]-X_unscaled[:,1]).reshape(-1, 1)\n",
        "    X_test_unscaled = np.random.randint(range, size=(1000, 2))\n",
        "    Y_test_unscaled = (X_test_unscaled[:,0]-X_test_unscaled[:,1]).reshape(-1, 1)\n",
        "  elif learn == \"*\":\n",
        "    X_unscaled = np.random.randint(20, size=(10000, 2))\n",
        "    Y_unscaled = (X_unscaled[:,0]*X_unscaled[:,1]).reshape(-1, 1)\n",
        "    X_test_unscaled = np.random.randint(range, size=(1000, 2))\n",
        "    Y_test_unscaled = (X_test_unscaled[:,0]*X_test_unscaled[:,1]).reshape(-1, 1)\n",
        "  elif learn == \"/\":\n",
        "    X_unscaled = np.random.randint(1,range, size=(10000, 2))\n",
        "    Y_unscaled = (X_unscaled[:,0]/X_unscaled[:,1]).reshape(-1, 1)\n",
        "    X_test_unscaled = np.random.randint(1,range, size=(1000, 2))\n",
        "    Y_test_unscaled = (X_test_unscaled[:,0]/X_test_unscaled[:,1]).reshape(-1, 1)\n",
        "  return X_test_unscaled, Y_test_unscaled, X_unscaled, Y_unscaled"
      ],
      "execution_count": 0,
      "outputs": []
    },
    {
      "cell_type": "code",
      "metadata": {
        "id": "yT6LSls881sx",
        "colab_type": "code",
        "colab": {
          "base_uri": "https://localhost:8080/",
          "height": 357
        },
        "outputId": "19e25d02-09b3-49a1-ead8-3372f5b6517a"
      },
      "source": [
        "(X_test_unscaled, Y_test_unscaled,\n",
        "    X_unscaled, Y_unscaled) = create_target_data(learn=\"/\", range = 20)\n",
        "\n",
        "print(X_unscaled[0:10])\n",
        "print(Y_unscaled[0:10])"
      ],
      "execution_count": 79,
      "outputs": [
        {
          "output_type": "stream",
          "text": [
            "[[11  7]\n",
            " [14  8]\n",
            " [ 4 15]\n",
            " [ 2  3]\n",
            " [17 11]\n",
            " [16  1]\n",
            " [ 3  5]\n",
            " [ 4  6]\n",
            " [14 13]\n",
            " [17  5]]\n",
            "[[ 1.57142857]\n",
            " [ 1.75      ]\n",
            " [ 0.26666667]\n",
            " [ 0.66666667]\n",
            " [ 1.54545455]\n",
            " [16.        ]\n",
            " [ 0.6       ]\n",
            " [ 0.66666667]\n",
            " [ 1.07692308]\n",
            " [ 3.4       ]]\n"
          ],
          "name": "stdout"
        }
      ]
    },
    {
      "cell_type": "code",
      "metadata": {
        "id": "FDFlN7Eg_JPN",
        "colab_type": "code",
        "colab": {
          "base_uri": "https://localhost:8080/",
          "height": 391
        },
        "outputId": "90fa9c2a-6a64-4368-fecc-0272127bd77a"
      },
      "source": [
        "# scale the training data\n",
        "X_scaler = MinMaxScaler()\n",
        "Y_scaler = MinMaxScaler()\n",
        "\n",
        "X = X_scaler.fit_transform(X_unscaled)\n",
        "Y = Y_scaler.fit_transform(Y_unscaled)\n",
        "\n",
        "print(X.shape)\n",
        "print(Y.shape)\n",
        "print(X[0:10])\n",
        "print(Y[0:10])"
      ],
      "execution_count": 80,
      "outputs": [
        {
          "output_type": "stream",
          "text": [
            "(10000, 2)\n",
            "(10000, 1)\n",
            "[[0.55555556 0.33333333]\n",
            " [0.72222222 0.38888889]\n",
            " [0.16666667 0.77777778]\n",
            " [0.05555556 0.11111111]\n",
            " [0.88888889 0.55555556]\n",
            " [0.83333333 0.        ]\n",
            " [0.11111111 0.22222222]\n",
            " [0.16666667 0.27777778]\n",
            " [0.72222222 0.66666667]\n",
            " [0.88888889 0.22222222]]\n",
            "[[0.08015873]\n",
            " [0.08958333]\n",
            " [0.0112963 ]\n",
            " [0.03240741]\n",
            " [0.07878788]\n",
            " [0.84166667]\n",
            " [0.02888889]\n",
            " [0.03240741]\n",
            " [0.05405983]\n",
            " [0.17666667]]\n"
          ],
          "name": "stdout"
        }
      ]
    },
    {
      "cell_type": "code",
      "metadata": {
        "id": "P2iPVcst9bcw",
        "colab_type": "code",
        "colab": {}
      },
      "source": [
        "# set up ann model\n",
        "calc_model = tf.keras.Sequential()\n",
        "calc_model.add(layers.Dense(64, activation='relu'))\n",
        "#calc_model.add(layers.Dense(64, activation='relu'))\n",
        "calc_model.add(layers.Dense(1))\n",
        "\n",
        "calc_model.compile(optimizer=\"adam\",\n",
        "              loss='mean_squared_error',\n",
        "              metrics=['mse'])"
      ],
      "execution_count": 0,
      "outputs": []
    },
    {
      "cell_type": "code",
      "metadata": {
        "id": "HJZ3vMyjACh3",
        "colab_type": "code",
        "outputId": "8e61ba94-12b1-45c6-d28a-e0ce55dbebc6",
        "colab": {
          "base_uri": "https://localhost:8080/",
          "height": 1000
        }
      },
      "source": [
        "# train ann model\n",
        "calc_model.fit(X,Y, epochs=50)"
      ],
      "execution_count": 82,
      "outputs": [
        {
          "output_type": "stream",
          "text": [
            "Train on 10000 samples\n",
            "Epoch 1/50\n",
            "10000/10000 [==============================] - 1s 71us/sample - loss: 0.0087 - mean_squared_error: 0.0087\n",
            "Epoch 2/50\n",
            "10000/10000 [==============================] - 1s 68us/sample - loss: 0.0034 - mean_squared_error: 0.0034\n",
            "Epoch 3/50\n",
            "10000/10000 [==============================] - 1s 67us/sample - loss: 0.0020 - mean_squared_error: 0.0020\n",
            "Epoch 4/50\n",
            "10000/10000 [==============================] - 1s 69us/sample - loss: 0.0012 - mean_squared_error: 0.0012\n",
            "Epoch 5/50\n",
            "10000/10000 [==============================] - 1s 68us/sample - loss: 8.2051e-04 - mean_squared_error: 8.2051e-04\n",
            "Epoch 6/50\n",
            "10000/10000 [==============================] - 1s 68us/sample - loss: 5.5255e-04 - mean_squared_error: 5.5255e-04\n",
            "Epoch 7/50\n",
            "10000/10000 [==============================] - 1s 69us/sample - loss: 3.7385e-04 - mean_squared_error: 3.7385e-04\n",
            "Epoch 8/50\n",
            "10000/10000 [==============================] - 1s 68us/sample - loss: 2.6098e-04 - mean_squared_error: 2.6098e-04\n",
            "Epoch 9/50\n",
            "10000/10000 [==============================] - 1s 76us/sample - loss: 1.8983e-04 - mean_squared_error: 1.8983e-04\n",
            "Epoch 10/50\n",
            "10000/10000 [==============================] - 1s 68us/sample - loss: 1.3497e-04 - mean_squared_error: 1.3497e-04\n",
            "Epoch 11/50\n",
            "10000/10000 [==============================] - 1s 69us/sample - loss: 9.1520e-05 - mean_squared_error: 9.1520e-05\n",
            "Epoch 12/50\n",
            "10000/10000 [==============================] - 1s 66us/sample - loss: 6.4426e-05 - mean_squared_error: 6.4426e-05\n",
            "Epoch 13/50\n",
            "10000/10000 [==============================] - 1s 68us/sample - loss: 4.0937e-05 - mean_squared_error: 4.0937e-05\n",
            "Epoch 14/50\n",
            "10000/10000 [==============================] - 1s 68us/sample - loss: 2.6607e-05 - mean_squared_error: 2.6607e-05\n",
            "Epoch 15/50\n",
            "10000/10000 [==============================] - 1s 69us/sample - loss: 1.8418e-05 - mean_squared_error: 1.8418e-05\n",
            "Epoch 16/50\n",
            "10000/10000 [==============================] - 1s 70us/sample - loss: 1.2705e-05 - mean_squared_error: 1.2705e-05\n",
            "Epoch 17/50\n",
            "10000/10000 [==============================] - 1s 70us/sample - loss: 8.3986e-06 - mean_squared_error: 8.3986e-06\n",
            "Epoch 18/50\n",
            "10000/10000 [==============================] - 1s 71us/sample - loss: 6.6861e-06 - mean_squared_error: 6.6861e-06\n",
            "Epoch 19/50\n",
            "10000/10000 [==============================] - 1s 71us/sample - loss: 4.8684e-06 - mean_squared_error: 4.8684e-06\n",
            "Epoch 20/50\n",
            "10000/10000 [==============================] - 1s 71us/sample - loss: 3.9554e-06 - mean_squared_error: 3.9554e-06\n",
            "Epoch 21/50\n",
            "10000/10000 [==============================] - 1s 72us/sample - loss: 3.8632e-06 - mean_squared_error: 3.8632e-06\n",
            "Epoch 22/50\n",
            "10000/10000 [==============================] - 1s 67us/sample - loss: 3.6629e-06 - mean_squared_error: 3.6629e-06\n",
            "Epoch 23/50\n",
            "10000/10000 [==============================] - 1s 68us/sample - loss: 2.7416e-06 - mean_squared_error: 2.7416e-06\n",
            "Epoch 24/50\n",
            "10000/10000 [==============================] - 1s 70us/sample - loss: 3.1127e-06 - mean_squared_error: 3.1127e-06\n",
            "Epoch 25/50\n",
            "10000/10000 [==============================] - 1s 69us/sample - loss: 2.7367e-06 - mean_squared_error: 2.7367e-06\n",
            "Epoch 26/50\n",
            "10000/10000 [==============================] - 1s 70us/sample - loss: 3.0063e-06 - mean_squared_error: 3.0063e-06\n",
            "Epoch 27/50\n",
            "10000/10000 [==============================] - 1s 69us/sample - loss: 3.0365e-06 - mean_squared_error: 3.0365e-06\n",
            "Epoch 28/50\n",
            "10000/10000 [==============================] - 1s 69us/sample - loss: 3.0902e-06 - mean_squared_error: 3.0902e-06\n",
            "Epoch 29/50\n",
            "10000/10000 [==============================] - 1s 69us/sample - loss: 3.5205e-06 - mean_squared_error: 3.5205e-06\n",
            "Epoch 30/50\n",
            "10000/10000 [==============================] - 1s 71us/sample - loss: 2.5003e-06 - mean_squared_error: 2.5003e-06\n",
            "Epoch 31/50\n",
            "10000/10000 [==============================] - 1s 69us/sample - loss: 3.0018e-06 - mean_squared_error: 3.0018e-06\n",
            "Epoch 32/50\n",
            "10000/10000 [==============================] - 1s 70us/sample - loss: 2.8315e-06 - mean_squared_error: 2.8315e-06\n",
            "Epoch 33/50\n",
            "10000/10000 [==============================] - 1s 69us/sample - loss: 4.0183e-06 - mean_squared_error: 4.0183e-06\n",
            "Epoch 34/50\n",
            "10000/10000 [==============================] - 1s 67us/sample - loss: 3.3185e-06 - mean_squared_error: 3.3185e-06\n",
            "Epoch 35/50\n",
            "10000/10000 [==============================] - 1s 69us/sample - loss: 2.6137e-06 - mean_squared_error: 2.6137e-06\n",
            "Epoch 36/50\n",
            "10000/10000 [==============================] - 1s 68us/sample - loss: 2.1995e-06 - mean_squared_error: 2.1995e-06\n",
            "Epoch 37/50\n",
            "10000/10000 [==============================] - 1s 70us/sample - loss: 2.4002e-06 - mean_squared_error: 2.4002e-06\n",
            "Epoch 38/50\n",
            "10000/10000 [==============================] - 1s 70us/sample - loss: 2.5980e-06 - mean_squared_error: 2.5980e-06\n",
            "Epoch 39/50\n",
            "10000/10000 [==============================] - 1s 68us/sample - loss: 2.4049e-06 - mean_squared_error: 2.4049e-06\n",
            "Epoch 40/50\n",
            "10000/10000 [==============================] - 1s 69us/sample - loss: 2.8258e-06 - mean_squared_error: 2.8258e-06\n",
            "Epoch 41/50\n",
            "10000/10000 [==============================] - 1s 70us/sample - loss: 1.9396e-06 - mean_squared_error: 1.9396e-06\n",
            "Epoch 42/50\n",
            "10000/10000 [==============================] - 1s 69us/sample - loss: 2.6454e-06 - mean_squared_error: 2.6454e-06\n",
            "Epoch 43/50\n",
            "10000/10000 [==============================] - 1s 68us/sample - loss: 2.0366e-06 - mean_squared_error: 2.0366e-06\n",
            "Epoch 44/50\n",
            "10000/10000 [==============================] - 1s 66us/sample - loss: 2.4364e-06 - mean_squared_error: 2.4364e-06\n",
            "Epoch 45/50\n",
            "10000/10000 [==============================] - 1s 68us/sample - loss: 2.8436e-06 - mean_squared_error: 2.8436e-06\n",
            "Epoch 46/50\n",
            "10000/10000 [==============================] - 1s 68us/sample - loss: 2.2444e-06 - mean_squared_error: 2.2444e-06\n",
            "Epoch 47/50\n",
            "10000/10000 [==============================] - 1s 68us/sample - loss: 1.7266e-06 - mean_squared_error: 1.7266e-06\n",
            "Epoch 48/50\n",
            "10000/10000 [==============================] - 1s 67us/sample - loss: 1.5705e-06 - mean_squared_error: 1.5705e-06\n",
            "Epoch 49/50\n",
            "10000/10000 [==============================] - 1s 69us/sample - loss: 2.1977e-06 - mean_squared_error: 2.1977e-06\n",
            "Epoch 50/50\n",
            "10000/10000 [==============================] - 1s 69us/sample - loss: 2.1833e-06 - mean_squared_error: 2.1833e-06\n"
          ],
          "name": "stdout"
        },
        {
          "output_type": "execute_result",
          "data": {
            "text/plain": [
              "<tensorflow.python.keras.callbacks.History at 0x7fd214134f28>"
            ]
          },
          "metadata": {
            "tags": []
          },
          "execution_count": 82
        }
      ]
    },
    {
      "cell_type": "code",
      "metadata": {
        "id": "YNaCoY80CJut",
        "colab_type": "code",
        "outputId": "04acd85c-025e-40a2-c2ea-17f1e985d92c",
        "colab": {
          "base_uri": "https://localhost:8080/",
          "height": 357
        }
      },
      "source": [
        "# scale test data and validate trained neural net\n",
        "X_test = X_scaler.transform(X_test_unscaled)\n",
        "\n",
        "Y_pred = calc_model.predict(X_test)\n",
        "Y_pred_rescaled = Y_scaler.inverse_transform(Y_pred)\n",
        "\n",
        "print(Y_test_unscaled[0:10])\n",
        "print(Y_pred_rescaled[0:10])"
      ],
      "execution_count": 83,
      "outputs": [
        {
          "output_type": "stream",
          "text": [
            "[[0.35294118]\n",
            " [0.38888889]\n",
            " [0.85714286]\n",
            " [4.75      ]\n",
            " [1.28571429]\n",
            " [0.63157895]\n",
            " [2.        ]\n",
            " [1.54545455]\n",
            " [1.14285714]\n",
            " [0.72222222]]\n",
            "[[0.28950047]\n",
            " [0.32350442]\n",
            " [0.79770046]\n",
            " [4.740251  ]\n",
            " [1.2195588 ]\n",
            " [0.56882745]\n",
            " [1.935845  ]\n",
            " [1.4705604 ]\n",
            " [1.0743746 ]\n",
            " [0.662982  ]]\n"
          ],
          "name": "stdout"
        }
      ]
    },
    {
      "cell_type": "code",
      "metadata": {
        "id": "xBsGdrQNC5sH",
        "colab_type": "code",
        "outputId": "fa4960c3-94f5-4841-b099-30377721a24e",
        "colab": {
          "base_uri": "https://localhost:8080/",
          "height": 187
        }
      },
      "source": [
        "# compute the prediction error\n",
        "error = Y_pred_rescaled - Y_test_unscaled\n",
        "\n",
        "error[0:10]"
      ],
      "execution_count": 84,
      "outputs": [
        {
          "output_type": "execute_result",
          "data": {
            "text/plain": [
              "array([[-0.0634407 ],\n",
              "       [-0.06538447],\n",
              "       [-0.05944239],\n",
              "       [-0.00974894],\n",
              "       [-0.06615545],\n",
              "       [-0.0627515 ],\n",
              "       [-0.06415498],\n",
              "       [-0.07489411],\n",
              "       [-0.06848259],\n",
              "       [-0.05924024]])"
            ]
          },
          "metadata": {
            "tags": []
          },
          "execution_count": 84
        }
      ]
    }
  ]
}