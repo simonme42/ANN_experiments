{
  "nbformat": 4,
  "nbformat_minor": 0,
  "metadata": {
    "colab": {
      "name": "Calculator_KNN",
      "provenance": [],
      "collapsed_sections": [],
      "authorship_tag": "ABX9TyNOsuRT7xKb8kBlXIotZXpy",
      "include_colab_link": true
    },
    "kernelspec": {
      "name": "python3",
      "display_name": "Python 3"
    },
    "accelerator": "GPU"
  },
  "cells": [
    {
      "cell_type": "markdown",
      "metadata": {
        "id": "view-in-github",
        "colab_type": "text"
      },
      "source": [
        "<a href=\"https://colab.research.google.com/github/simonme42/ANN_experiments/blob/master/Calculator_ANN.ipynb\" target=\"_parent\"><img src=\"https://colab.research.google.com/assets/colab-badge.svg\" alt=\"Open In Colab\"/></a>"
      ]
    },
    {
      "cell_type": "code",
      "metadata": {
        "id": "XwTa7yVFjNIq",
        "colab_type": "code",
        "colab": {}
      },
      "source": [
        "import numpy as np\n",
        "\n",
        "import tensorflow as tf\n",
        "from tensorflow import keras\n",
        "from tensorflow.keras import layers\n",
        "\n",
        "from sklearn.preprocessing import MinMaxScaler"
      ],
      "execution_count": 0,
      "outputs": []
    },
    {
      "cell_type": "code",
      "metadata": {
        "id": "plD8soMGbMvB",
        "colab_type": "code",
        "colab": {}
      },
      "source": [
        "def create_target_data(learn=\"+\"):\n",
        "  if learn == \"+\":\n",
        "    X_unscaled = np.random.randint(20, size=(10000, 2))\n",
        "    Y_unscaled = (X_unscaled[:,0]+X_unscaled[:,1]).reshape(-1, 1)\n",
        "    X_test_unscaled = np.random.randint(20, size=(1000, 2))\n",
        "    Y_test_unscaled = (X_test_unscaled[:,0]+X_test_unscaled[:,1]).reshape(-1, 1)\n",
        "  elif learn == \"-\":\n",
        "    X_unscaled = np.random.randint(20, size=(10000, 2))\n",
        "    Y_unscaled = (X_unscaled[:,0]-X_unscaled[:,1]).reshape(-1, 1)\n",
        "    X_test_unscaled = np.random.randint(20, size=(1000, 2))\n",
        "    Y_test_unscaled = (X_test_unscaled[:,0]-X_test_unscaled[:,1]).reshape(-1, 1)\n",
        "  elif learn == \"*\":\n",
        "    X_unscaled = np.random.randint(20, size=(10000, 2))\n",
        "    Y_unscaled = (X_unscaled[:,0]*X_unscaled[:,1]).reshape(-1, 1)\n",
        "    X_test_unscaled = np.random.randint(20, size=(1000, 2))\n",
        "    Y_test_unscaled = (X_test_unscaled[:,0]*X_test_unscaled[:,1]).reshape(-1, 1)\n",
        "  elif learn == \"/\":\n",
        "    X_unscaled = np.random.randint(1,20, size=(10000, 2))\n",
        "    Y_unscaled = (X_unscaled[:,0]/X_unscaled[:,1]).reshape(-1, 1)\n",
        "    X_test_unscaled = np.random.randint(1,20, size=(1000, 2))\n",
        "    Y_test_unscaled = (X_test_unscaled[:,0]/X_test_unscaled[:,1]).reshape(-1, 1)\n",
        "  return X_test_unscaled, Y_test_unscaled, X_unscaled, Y_unscaled"
      ],
      "execution_count": 0,
      "outputs": []
    },
    {
      "cell_type": "code",
      "metadata": {
        "id": "yT6LSls881sx",
        "colab_type": "code",
        "colab": {
          "base_uri": "https://localhost:8080/",
          "height": 357
        },
        "outputId": "4857c9a5-d73b-4988-ef72-df9aaf4fd966"
      },
      "source": [
        "(X_test_unscaled, Y_test_unscaled,\n",
        "    X_unscaled, Y_unscaled) = create_target_data(learn=\"/\")\n",
        "\n",
        "print(X_unscaled[0:10])\n",
        "print(Y_unscaled[0:10])"
      ],
      "execution_count": 62,
      "outputs": [
        {
          "output_type": "stream",
          "text": [
            "[[13  7]\n",
            " [18 18]\n",
            " [13 14]\n",
            " [ 4 18]\n",
            " [ 1 16]\n",
            " [ 3 17]\n",
            " [13 13]\n",
            " [ 6 15]\n",
            " [12  2]\n",
            " [ 8  3]]\n",
            "[[1.85714286]\n",
            " [1.        ]\n",
            " [0.92857143]\n",
            " [0.22222222]\n",
            " [0.0625    ]\n",
            " [0.17647059]\n",
            " [1.        ]\n",
            " [0.4       ]\n",
            " [6.        ]\n",
            " [2.66666667]]\n"
          ],
          "name": "stdout"
        }
      ]
    },
    {
      "cell_type": "code",
      "metadata": {
        "id": "FDFlN7Eg_JPN",
        "colab_type": "code",
        "colab": {
          "base_uri": "https://localhost:8080/",
          "height": 391
        },
        "outputId": "47b366a4-5904-408e-ed19-b27997c62282"
      },
      "source": [
        "X_scaler = MinMaxScaler()\n",
        "Y_scaler = MinMaxScaler()\n",
        "\n",
        "X = X_scaler.fit_transform(X_unscaled)\n",
        "Y = Y_scaler.fit_transform(Y_unscaled)\n",
        "\n",
        "print(X.shape)\n",
        "print(Y.shape)\n",
        "print(X[0:10])\n",
        "print(Y[0:10])"
      ],
      "execution_count": 63,
      "outputs": [
        {
          "output_type": "stream",
          "text": [
            "(10000, 2)\n",
            "(10000, 1)\n",
            "[[0.66666667 0.33333333]\n",
            " [0.94444444 0.94444444]\n",
            " [0.66666667 0.72222222]\n",
            " [0.16666667 0.94444444]\n",
            " [0.         0.83333333]\n",
            " [0.11111111 0.88888889]\n",
            " [0.66666667 0.66666667]\n",
            " [0.27777778 0.77777778]\n",
            " [0.61111111 0.05555556]\n",
            " [0.38888889 0.11111111]]\n",
            "[[0.0952381 ]\n",
            " [0.05      ]\n",
            " [0.04623016]\n",
            " [0.00895062]\n",
            " [0.00052083]\n",
            " [0.00653595]\n",
            " [0.05      ]\n",
            " [0.01833333]\n",
            " [0.31388889]\n",
            " [0.13796296]]\n"
          ],
          "name": "stdout"
        }
      ]
    },
    {
      "cell_type": "code",
      "metadata": {
        "id": "P2iPVcst9bcw",
        "colab_type": "code",
        "colab": {}
      },
      "source": [
        "calc_model = tf.keras.Sequential()\n",
        "calc_model.add(layers.Dense(64, activation='relu'))\n",
        "#calc_model.add(layers.Dense(64, activation='relu'))\n",
        "calc_model.add(layers.Dense(1))\n",
        "\n",
        "calc_model.compile(optimizer=tf.keras.optimizers.Adam(),\n",
        "              loss='mean_squared_error',\n",
        "              metrics=['mse'])"
      ],
      "execution_count": 0,
      "outputs": []
    },
    {
      "cell_type": "code",
      "metadata": {
        "id": "HJZ3vMyjACh3",
        "colab_type": "code",
        "outputId": "e8df4163-1e31-4510-d5cd-09d23437c229",
        "colab": {
          "base_uri": "https://localhost:8080/",
          "height": 1000
        }
      },
      "source": [
        "calc_model.fit(X,Y, epochs=50)"
      ],
      "execution_count": 69,
      "outputs": [
        {
          "output_type": "stream",
          "text": [
            "Train on 10000 samples\n",
            "Epoch 1/50\n",
            "10000/10000 [==============================] - 1s 79us/sample - loss: 0.0078 - mean_squared_error: 0.0078\n",
            "Epoch 2/50\n",
            "10000/10000 [==============================] - 1s 68us/sample - loss: 0.0027 - mean_squared_error: 0.0027\n",
            "Epoch 3/50\n",
            "10000/10000 [==============================] - 1s 69us/sample - loss: 0.0016 - mean_squared_error: 0.0016\n",
            "Epoch 4/50\n",
            "10000/10000 [==============================] - 1s 68us/sample - loss: 0.0010 - mean_squared_error: 0.0010\n",
            "Epoch 5/50\n",
            "10000/10000 [==============================] - 1s 71us/sample - loss: 6.4560e-04 - mean_squared_error: 6.4560e-04\n",
            "Epoch 6/50\n",
            "10000/10000 [==============================] - 1s 71us/sample - loss: 4.4513e-04 - mean_squared_error: 4.4513e-04\n",
            "Epoch 7/50\n",
            "10000/10000 [==============================] - 1s 70us/sample - loss: 2.9160e-04 - mean_squared_error: 2.9160e-04\n",
            "Epoch 8/50\n",
            "10000/10000 [==============================] - 1s 65us/sample - loss: 1.9855e-04 - mean_squared_error: 1.9855e-04\n",
            "Epoch 9/50\n",
            "10000/10000 [==============================] - 1s 67us/sample - loss: 1.2843e-04 - mean_squared_error: 1.2843e-04\n",
            "Epoch 10/50\n",
            "10000/10000 [==============================] - 1s 65us/sample - loss: 8.5573e-05 - mean_squared_error: 8.5573e-05\n",
            "Epoch 11/50\n",
            "10000/10000 [==============================] - 1s 69us/sample - loss: 5.2798e-05 - mean_squared_error: 5.2798e-05\n",
            "Epoch 12/50\n",
            "10000/10000 [==============================] - 1s 67us/sample - loss: 3.6490e-05 - mean_squared_error: 3.6490e-05\n",
            "Epoch 13/50\n",
            "10000/10000 [==============================] - 1s 64us/sample - loss: 2.2112e-05 - mean_squared_error: 2.2112e-05\n",
            "Epoch 14/50\n",
            "10000/10000 [==============================] - 1s 67us/sample - loss: 1.4315e-05 - mean_squared_error: 1.4315e-05\n",
            "Epoch 15/50\n",
            "10000/10000 [==============================] - 1s 69us/sample - loss: 9.2932e-06 - mean_squared_error: 9.2932e-06\n",
            "Epoch 16/50\n",
            "10000/10000 [==============================] - 1s 66us/sample - loss: 7.3827e-06 - mean_squared_error: 7.3827e-06\n",
            "Epoch 17/50\n",
            "10000/10000 [==============================] - 1s 71us/sample - loss: 5.8072e-06 - mean_squared_error: 5.8072e-06\n",
            "Epoch 18/50\n",
            "10000/10000 [==============================] - 1s 70us/sample - loss: 4.8932e-06 - mean_squared_error: 4.8932e-06\n",
            "Epoch 19/50\n",
            "10000/10000 [==============================] - 1s 68us/sample - loss: 4.0250e-06 - mean_squared_error: 4.0250e-06\n",
            "Epoch 20/50\n",
            "10000/10000 [==============================] - 1s 70us/sample - loss: 3.5517e-06 - mean_squared_error: 3.5517e-06\n",
            "Epoch 21/50\n",
            "10000/10000 [==============================] - 1s 66us/sample - loss: 3.1429e-06 - mean_squared_error: 3.1429e-06\n",
            "Epoch 22/50\n",
            "10000/10000 [==============================] - 1s 67us/sample - loss: 3.1900e-06 - mean_squared_error: 3.1900e-06\n",
            "Epoch 23/50\n",
            "10000/10000 [==============================] - 1s 69us/sample - loss: 3.7020e-06 - mean_squared_error: 3.7020e-06\n",
            "Epoch 24/50\n",
            "10000/10000 [==============================] - 1s 67us/sample - loss: 3.2130e-06 - mean_squared_error: 3.2130e-06\n",
            "Epoch 25/50\n",
            "10000/10000 [==============================] - 1s 65us/sample - loss: 2.7901e-06 - mean_squared_error: 2.7901e-06\n",
            "Epoch 26/50\n",
            "10000/10000 [==============================] - 1s 66us/sample - loss: 2.7976e-06 - mean_squared_error: 2.7976e-06\n",
            "Epoch 27/50\n",
            "10000/10000 [==============================] - 1s 66us/sample - loss: 2.7462e-06 - mean_squared_error: 2.7462e-06\n",
            "Epoch 28/50\n",
            "10000/10000 [==============================] - 1s 64us/sample - loss: 2.8961e-06 - mean_squared_error: 2.8961e-06\n",
            "Epoch 29/50\n",
            "10000/10000 [==============================] - 1s 66us/sample - loss: 2.7170e-06 - mean_squared_error: 2.7170e-06\n",
            "Epoch 30/50\n",
            "10000/10000 [==============================] - 1s 66us/sample - loss: 7.6163e-06 - mean_squared_error: 7.6163e-06\n",
            "Epoch 31/50\n",
            "10000/10000 [==============================] - 1s 65us/sample - loss: 2.1543e-06 - mean_squared_error: 2.1543e-06\n",
            "Epoch 32/50\n",
            "10000/10000 [==============================] - 1s 67us/sample - loss: 2.7853e-06 - mean_squared_error: 2.7853e-06\n",
            "Epoch 33/50\n",
            "10000/10000 [==============================] - 1s 67us/sample - loss: 2.0593e-06 - mean_squared_error: 2.0593e-06\n",
            "Epoch 34/50\n",
            "10000/10000 [==============================] - 1s 65us/sample - loss: 2.1866e-06 - mean_squared_error: 2.1866e-06\n",
            "Epoch 35/50\n",
            "10000/10000 [==============================] - 1s 66us/sample - loss: 2.0836e-06 - mean_squared_error: 2.0836e-06\n",
            "Epoch 36/50\n",
            "10000/10000 [==============================] - 1s 63us/sample - loss: 2.9431e-06 - mean_squared_error: 2.9431e-06\n",
            "Epoch 37/50\n",
            "10000/10000 [==============================] - 1s 64us/sample - loss: 2.2820e-06 - mean_squared_error: 2.2820e-06\n",
            "Epoch 38/50\n",
            "10000/10000 [==============================] - 1s 64us/sample - loss: 1.7577e-06 - mean_squared_error: 1.7577e-06\n",
            "Epoch 39/50\n",
            "10000/10000 [==============================] - 1s 65us/sample - loss: 3.4635e-06 - mean_squared_error: 3.4635e-06\n",
            "Epoch 40/50\n",
            "10000/10000 [==============================] - 1s 65us/sample - loss: 3.9240e-06 - mean_squared_error: 3.9240e-06\n",
            "Epoch 41/50\n",
            "10000/10000 [==============================] - 1s 66us/sample - loss: 2.1929e-06 - mean_squared_error: 2.1929e-06\n",
            "Epoch 42/50\n",
            "10000/10000 [==============================] - 1s 67us/sample - loss: 1.7934e-06 - mean_squared_error: 1.7934e-06\n",
            "Epoch 43/50\n",
            "10000/10000 [==============================] - 1s 66us/sample - loss: 1.7791e-06 - mean_squared_error: 1.7791e-06\n",
            "Epoch 44/50\n",
            "10000/10000 [==============================] - 1s 67us/sample - loss: 1.5211e-06 - mean_squared_error: 1.5211e-06\n",
            "Epoch 45/50\n",
            "10000/10000 [==============================] - 1s 63us/sample - loss: 2.1850e-06 - mean_squared_error: 2.1850e-06\n",
            "Epoch 46/50\n",
            "10000/10000 [==============================] - 1s 68us/sample - loss: 1.6664e-06 - mean_squared_error: 1.6664e-06\n",
            "Epoch 47/50\n",
            "10000/10000 [==============================] - 1s 66us/sample - loss: 2.0191e-06 - mean_squared_error: 2.0191e-06\n",
            "Epoch 48/50\n",
            "10000/10000 [==============================] - 1s 65us/sample - loss: 5.1408e-06 - mean_squared_error: 5.1408e-06\n",
            "Epoch 49/50\n",
            "10000/10000 [==============================] - 1s 66us/sample - loss: 1.8706e-06 - mean_squared_error: 1.8706e-06\n",
            "Epoch 50/50\n",
            "10000/10000 [==============================] - 1s 63us/sample - loss: 1.3080e-06 - mean_squared_error: 1.3080e-06\n"
          ],
          "name": "stdout"
        },
        {
          "output_type": "execute_result",
          "data": {
            "text/plain": [
              "<tensorflow.python.keras.callbacks.History at 0x7fd214268a20>"
            ]
          },
          "metadata": {
            "tags": []
          },
          "execution_count": 69
        }
      ]
    },
    {
      "cell_type": "code",
      "metadata": {
        "id": "YNaCoY80CJut",
        "colab_type": "code",
        "outputId": "b8708fd8-480d-4125-afa1-1a524a2b07fb",
        "colab": {
          "base_uri": "https://localhost:8080/",
          "height": 357
        }
      },
      "source": [
        "X_test = X_scaler.transform(X_test_unscaled)\n",
        "\n",
        "Y_pred = calc_model.predict(X_test)\n",
        "Y_pred_rescaled = Y_scaler.inverse_transform(Y_pred)\n",
        "\n",
        "print(Y_test_unscaled[0:10])\n",
        "print(Y_pred_rescaled[0:10])"
      ],
      "execution_count": 70,
      "outputs": [
        {
          "output_type": "stream",
          "text": [
            "[[1.66666667]\n",
            " [1.14285714]\n",
            " [0.75      ]\n",
            " [0.25      ]\n",
            " [0.11764706]\n",
            " [5.33333333]\n",
            " [0.63636364]\n",
            " [0.4       ]\n",
            " [8.5       ]\n",
            " [3.        ]]\n",
            "[[1.6719533 ]\n",
            " [1.1373466 ]\n",
            " [0.7594288 ]\n",
            " [0.26820865]\n",
            " [0.11384234]\n",
            " [5.332091  ]\n",
            " [0.6471986 ]\n",
            " [0.4183327 ]\n",
            " [8.461978  ]\n",
            " [3.020291  ]]\n"
          ],
          "name": "stdout"
        }
      ]
    },
    {
      "cell_type": "code",
      "metadata": {
        "id": "xBsGdrQNC5sH",
        "colab_type": "code",
        "outputId": "08eb9a29-2197-4bb1-d488-f9139e0ef14a",
        "colab": {
          "base_uri": "https://localhost:8080/",
          "height": 187
        }
      },
      "source": [
        "error = Y_pred_rescaled - Y_test_unscaled\n",
        "\n",
        "error[0:10]"
      ],
      "execution_count": 71,
      "outputs": [
        {
          "output_type": "execute_result",
          "data": {
            "text/plain": [
              "array([[ 0.00528665],\n",
              "       [-0.00551052],\n",
              "       [ 0.0094288 ],\n",
              "       [ 0.01820865],\n",
              "       [-0.00380472],\n",
              "       [-0.00124248],\n",
              "       [ 0.01083498],\n",
              "       [ 0.0183327 ],\n",
              "       [-0.03802204],\n",
              "       [ 0.02029109]])"
            ]
          },
          "metadata": {
            "tags": []
          },
          "execution_count": 71
        }
      ]
    }
  ]
}