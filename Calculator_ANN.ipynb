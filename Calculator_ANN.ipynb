{
  "nbformat": 4,
  "nbformat_minor": 0,
  "metadata": {
    "colab": {
      "name": "Calculator_ANN",
      "provenance": [],
      "collapsed_sections": [],
      "authorship_tag": "ABX9TyMno656hVynw9KcY5iucC+3",
      "include_colab_link": true
    },
    "kernelspec": {
      "name": "python3",
      "display_name": "Python 3"
    },
    "accelerator": "GPU"
  },
  "cells": [
    {
      "cell_type": "markdown",
      "metadata": {
        "id": "view-in-github",
        "colab_type": "text"
      },
      "source": [
        "<a href=\"https://colab.research.google.com/github/simonme42/ANN_experiments/blob/master/Calculator_ANN.ipynb\" target=\"_parent\"><img src=\"https://colab.research.google.com/assets/colab-badge.svg\" alt=\"Open In Colab\"/></a>"
      ]
    },
    {
      "cell_type": "code",
      "metadata": {
        "id": "XwTa7yVFjNIq",
        "colab_type": "code",
        "colab": {
          "base_uri": "https://localhost:8080/",
          "height": 63
        },
        "outputId": "76ca1319-c798-4a2f-b9d9-7eb2d307b7cb"
      },
      "source": [
        "import numpy as np\n",
        "\n",
        "import tensorflow as tf\n",
        "from tensorflow import keras\n",
        "from tensorflow.keras import layers\n",
        "\n",
        "from sklearn.preprocessing import MinMaxScaler"
      ],
      "execution_count": 1,
      "outputs": [
        {
          "output_type": "display_data",
          "data": {
            "text/html": [
              "<p style=\"color: red;\">\n",
              "The default version of TensorFlow in Colab will soon switch to TensorFlow 2.x.<br>\n",
              "We recommend you <a href=\"https://www.tensorflow.org/guide/migrate\" target=\"_blank\">upgrade</a> now \n",
              "or ensure your notebook will continue to use TensorFlow 1.x via the <code>%tensorflow_version 1.x</code> magic:\n",
              "<a href=\"https://colab.research.google.com/notebooks/tensorflow_version.ipynb\" target=\"_blank\">more info</a>.</p>\n"
            ],
            "text/plain": [
              "<IPython.core.display.HTML object>"
            ]
          },
          "metadata": {
            "tags": []
          }
        }
      ]
    },
    {
      "cell_type": "code",
      "metadata": {
        "id": "plD8soMGbMvB",
        "colab_type": "code",
        "colab": {}
      },
      "source": [
        "# create the training data depending on what to learn and what the max number is\n",
        "def create_target_data(learn=\"+\", range=20):\n",
        "  if learn == \"+\":\n",
        "    X_unscaled = np.random.randint(range, size=(10000, 2))\n",
        "    Y_unscaled = (X_unscaled[:,0]+X_unscaled[:,1]).reshape(-1, 1)\n",
        "    X_test_unscaled = np.random.randint(range, size=(1000, 2))\n",
        "    Y_test_unscaled = (X_test_unscaled[:,0]+X_test_unscaled[:,1]).reshape(-1, 1)\n",
        "  elif learn == \"-\":\n",
        "    X_unscaled = np.random.randint(range, size=(10000, 2))\n",
        "    Y_unscaled = (X_unscaled[:,0]-X_unscaled[:,1]).reshape(-1, 1)\n",
        "    X_test_unscaled = np.random.randint(range, size=(1000, 2))\n",
        "    Y_test_unscaled = (X_test_unscaled[:,0]-X_test_unscaled[:,1]).reshape(-1, 1)\n",
        "  elif learn == \"*\":\n",
        "    X_unscaled = np.random.randint(20, size=(10000, 2))\n",
        "    Y_unscaled = (X_unscaled[:,0]*X_unscaled[:,1]).reshape(-1, 1)\n",
        "    X_test_unscaled = np.random.randint(range, size=(1000, 2))\n",
        "    Y_test_unscaled = (X_test_unscaled[:,0]*X_test_unscaled[:,1]).reshape(-1, 1)\n",
        "  elif learn == \"/\":\n",
        "    X_unscaled = np.random.randint(1,range, size=(10000, 2))\n",
        "    Y_unscaled = (X_unscaled[:,0]/X_unscaled[:,1]).reshape(-1, 1)\n",
        "    X_test_unscaled = np.random.randint(1,range, size=(1000, 2))\n",
        "    Y_test_unscaled = (X_test_unscaled[:,0]/X_test_unscaled[:,1]).reshape(-1, 1)\n",
        "  return X_test_unscaled, Y_test_unscaled, X_unscaled, Y_unscaled"
      ],
      "execution_count": 0,
      "outputs": []
    },
    {
      "cell_type": "code",
      "metadata": {
        "id": "yT6LSls881sx",
        "colab_type": "code",
        "outputId": "32a33f56-fb48-4d17-c6ff-c40a753a5564",
        "colab": {
          "base_uri": "https://localhost:8080/",
          "height": 357
        }
      },
      "source": [
        "(X_test_unscaled, Y_test_unscaled,\n",
        "    X_unscaled, Y_unscaled) = create_target_data(learn=\"/\", range = 20)\n",
        "\n",
        "print(X_unscaled[0:10])\n",
        "print(Y_unscaled[0:10])"
      ],
      "execution_count": 3,
      "outputs": [
        {
          "output_type": "stream",
          "text": [
            "[[ 9 17]\n",
            " [14 15]\n",
            " [ 1 18]\n",
            " [19 16]\n",
            " [ 4  4]\n",
            " [ 8 10]\n",
            " [12 19]\n",
            " [ 7 17]\n",
            " [10 10]\n",
            " [ 7 16]]\n",
            "[[0.52941176]\n",
            " [0.93333333]\n",
            " [0.05555556]\n",
            " [1.1875    ]\n",
            " [1.        ]\n",
            " [0.8       ]\n",
            " [0.63157895]\n",
            " [0.41176471]\n",
            " [1.        ]\n",
            " [0.4375    ]]\n"
          ],
          "name": "stdout"
        }
      ]
    },
    {
      "cell_type": "code",
      "metadata": {
        "id": "FDFlN7Eg_JPN",
        "colab_type": "code",
        "outputId": "879ed206-7274-4f2e-94d6-70cfb9f55509",
        "colab": {
          "base_uri": "https://localhost:8080/",
          "height": 391
        }
      },
      "source": [
        "# scale the training data\n",
        "X_scaler = MinMaxScaler()\n",
        "Y_scaler = MinMaxScaler()\n",
        "\n",
        "X = X_scaler.fit_transform(X_unscaled)\n",
        "Y = Y_scaler.fit_transform(Y_unscaled)\n",
        "\n",
        "print(X.shape)\n",
        "print(Y.shape)\n",
        "print(X[0:10])\n",
        "print(Y[0:10])"
      ],
      "execution_count": 4,
      "outputs": [
        {
          "output_type": "stream",
          "text": [
            "(10000, 2)\n",
            "(10000, 1)\n",
            "[[0.44444444 0.88888889]\n",
            " [0.72222222 0.77777778]\n",
            " [0.         0.94444444]\n",
            " [1.         0.83333333]\n",
            " [0.16666667 0.16666667]\n",
            " [0.38888889 0.5       ]\n",
            " [0.61111111 1.        ]\n",
            " [0.33333333 0.88888889]\n",
            " [0.5        0.5       ]\n",
            " [0.33333333 0.83333333]]\n",
            "[[0.0251634 ]\n",
            " [0.04648148]\n",
            " [0.00015432]\n",
            " [0.05989583]\n",
            " [0.05      ]\n",
            " [0.03944444]\n",
            " [0.03055556]\n",
            " [0.01895425]\n",
            " [0.05      ]\n",
            " [0.0203125 ]]\n"
          ],
          "name": "stdout"
        }
      ]
    },
    {
      "cell_type": "code",
      "metadata": {
        "id": "P2iPVcst9bcw",
        "colab_type": "code",
        "colab": {}
      },
      "source": [
        "# set up ann model\n",
        "calc_model = tf.keras.Sequential()\n",
        "calc_model.add(layers.Dense(64, activation='relu'))\n",
        "#calc_model.add(layers.Dense(64, activation='relu'))\n",
        "calc_model.add(layers.Dense(1))\n",
        "\n",
        "calc_model.compile(optimizer=\"adam\",\n",
        "              loss='mean_squared_error',\n",
        "              metrics=['mse'])"
      ],
      "execution_count": 0,
      "outputs": []
    },
    {
      "cell_type": "code",
      "metadata": {
        "id": "HJZ3vMyjACh3",
        "colab_type": "code",
        "outputId": "6b9340e3-61e7-4d5d-9060-fb07226de01a",
        "colab": {
          "base_uri": "https://localhost:8080/",
          "height": 1000
        }
      },
      "source": [
        "# train ann model\n",
        "calc_model.fit(X,Y, epochs=50)"
      ],
      "execution_count": 6,
      "outputs": [
        {
          "output_type": "stream",
          "text": [
            "WARNING:tensorflow:From /usr/local/lib/python3.6/dist-packages/tensorflow_core/python/ops/resource_variable_ops.py:1630: calling BaseResourceVariable.__init__ (from tensorflow.python.ops.resource_variable_ops) with constraint is deprecated and will be removed in a future version.\n",
            "Instructions for updating:\n",
            "If using Keras pass *_constraint arguments to layers.\n",
            "Train on 10000 samples\n",
            "Epoch 1/50\n",
            "10000/10000 [==============================] - 1s 105us/sample - loss: 0.0082 - mean_squared_error: 0.0082\n",
            "Epoch 2/50\n",
            "10000/10000 [==============================] - 1s 65us/sample - loss: 0.0033 - mean_squared_error: 0.0033\n",
            "Epoch 3/50\n",
            "10000/10000 [==============================] - 1s 64us/sample - loss: 0.0019 - mean_squared_error: 0.0019\n",
            "Epoch 4/50\n",
            "10000/10000 [==============================] - 1s 65us/sample - loss: 0.0012 - mean_squared_error: 0.0012\n",
            "Epoch 5/50\n",
            "10000/10000 [==============================] - 1s 64us/sample - loss: 7.7320e-04 - mean_squared_error: 7.7320e-04\n",
            "Epoch 6/50\n",
            "10000/10000 [==============================] - 1s 64us/sample - loss: 5.0640e-04 - mean_squared_error: 5.0640e-04\n",
            "Epoch 7/50\n",
            "10000/10000 [==============================] - 1s 69us/sample - loss: 3.3725e-04 - mean_squared_error: 3.3725e-04\n",
            "Epoch 8/50\n",
            "10000/10000 [==============================] - 1s 72us/sample - loss: 2.4269e-04 - mean_squared_error: 2.4269e-04\n",
            "Epoch 9/50\n",
            "10000/10000 [==============================] - 1s 69us/sample - loss: 1.6446e-04 - mean_squared_error: 1.6446e-04\n",
            "Epoch 10/50\n",
            "10000/10000 [==============================] - 1s 63us/sample - loss: 1.1466e-04 - mean_squared_error: 1.1466e-04\n",
            "Epoch 11/50\n",
            "10000/10000 [==============================] - 1s 65us/sample - loss: 7.8605e-05 - mean_squared_error: 7.8605e-05\n",
            "Epoch 12/50\n",
            "10000/10000 [==============================] - 1s 64us/sample - loss: 5.1368e-05 - mean_squared_error: 5.1368e-05\n",
            "Epoch 13/50\n",
            "10000/10000 [==============================] - 1s 66us/sample - loss: 3.3094e-05 - mean_squared_error: 3.3094e-05\n",
            "Epoch 14/50\n",
            "10000/10000 [==============================] - 1s 64us/sample - loss: 2.3419e-05 - mean_squared_error: 2.3419e-05\n",
            "Epoch 15/50\n",
            "10000/10000 [==============================] - 1s 66us/sample - loss: 1.6491e-05 - mean_squared_error: 1.6491e-05\n",
            "Epoch 16/50\n",
            "10000/10000 [==============================] - 1s 65us/sample - loss: 1.0827e-05 - mean_squared_error: 1.0827e-05\n",
            "Epoch 17/50\n",
            "10000/10000 [==============================] - 1s 62us/sample - loss: 8.4051e-06 - mean_squared_error: 8.4051e-06\n",
            "Epoch 18/50\n",
            "10000/10000 [==============================] - 1s 65us/sample - loss: 6.7864e-06 - mean_squared_error: 6.7864e-06\n",
            "Epoch 19/50\n",
            "10000/10000 [==============================] - 1s 66us/sample - loss: 5.2035e-06 - mean_squared_error: 5.2035e-06\n",
            "Epoch 20/50\n",
            "10000/10000 [==============================] - 1s 65us/sample - loss: 4.5099e-06 - mean_squared_error: 4.5099e-06\n",
            "Epoch 21/50\n",
            "10000/10000 [==============================] - 1s 65us/sample - loss: 3.8972e-06 - mean_squared_error: 3.8972e-06\n",
            "Epoch 22/50\n",
            "10000/10000 [==============================] - 1s 64us/sample - loss: 4.0641e-06 - mean_squared_error: 4.0641e-06\n",
            "Epoch 23/50\n",
            "10000/10000 [==============================] - 1s 66us/sample - loss: 3.4457e-06 - mean_squared_error: 3.4457e-06\n",
            "Epoch 24/50\n",
            "10000/10000 [==============================] - 1s 68us/sample - loss: 3.9178e-06 - mean_squared_error: 3.9178e-06\n",
            "Epoch 25/50\n",
            "10000/10000 [==============================] - 1s 65us/sample - loss: 2.9335e-06 - mean_squared_error: 2.9335e-06\n",
            "Epoch 26/50\n",
            "10000/10000 [==============================] - 1s 71us/sample - loss: 2.8126e-06 - mean_squared_error: 2.8126e-06\n",
            "Epoch 27/50\n",
            "10000/10000 [==============================] - 1s 69us/sample - loss: 3.6187e-06 - mean_squared_error: 3.6187e-06\n",
            "Epoch 28/50\n",
            "10000/10000 [==============================] - 1s 68us/sample - loss: 3.2634e-06 - mean_squared_error: 3.2634e-06\n",
            "Epoch 29/50\n",
            "10000/10000 [==============================] - 1s 67us/sample - loss: 2.4477e-06 - mean_squared_error: 2.4477e-06\n",
            "Epoch 30/50\n",
            "10000/10000 [==============================] - 1s 70us/sample - loss: 2.9860e-06 - mean_squared_error: 2.9860e-06\n",
            "Epoch 31/50\n",
            "10000/10000 [==============================] - 1s 68us/sample - loss: 2.8631e-06 - mean_squared_error: 2.8631e-06\n",
            "Epoch 32/50\n",
            "10000/10000 [==============================] - 1s 69us/sample - loss: 2.7798e-06 - mean_squared_error: 2.7798e-06\n",
            "Epoch 33/50\n",
            "10000/10000 [==============================] - 1s 67us/sample - loss: 3.5318e-06 - mean_squared_error: 3.5318e-06\n",
            "Epoch 34/50\n",
            "10000/10000 [==============================] - 1s 64us/sample - loss: 2.4387e-06 - mean_squared_error: 2.4387e-06\n",
            "Epoch 35/50\n",
            "10000/10000 [==============================] - 1s 66us/sample - loss: 2.7626e-06 - mean_squared_error: 2.7626e-06\n",
            "Epoch 36/50\n",
            "10000/10000 [==============================] - 1s 66us/sample - loss: 3.0780e-06 - mean_squared_error: 3.0780e-06\n",
            "Epoch 37/50\n",
            "10000/10000 [==============================] - 1s 64us/sample - loss: 2.5637e-06 - mean_squared_error: 2.5637e-06\n",
            "Epoch 38/50\n",
            "10000/10000 [==============================] - 1s 65us/sample - loss: 4.0198e-06 - mean_squared_error: 4.0198e-06\n",
            "Epoch 39/50\n",
            "10000/10000 [==============================] - 1s 65us/sample - loss: 2.8808e-06 - mean_squared_error: 2.8808e-06\n",
            "Epoch 40/50\n",
            "10000/10000 [==============================] - 1s 65us/sample - loss: 2.4320e-06 - mean_squared_error: 2.4320e-06\n",
            "Epoch 41/50\n",
            "10000/10000 [==============================] - 1s 68us/sample - loss: 3.1186e-06 - mean_squared_error: 3.1186e-06\n",
            "Epoch 42/50\n",
            "10000/10000 [==============================] - 1s 66us/sample - loss: 3.2172e-06 - mean_squared_error: 3.2172e-06\n",
            "Epoch 43/50\n",
            "10000/10000 [==============================] - 1s 65us/sample - loss: 2.6845e-06 - mean_squared_error: 2.6845e-06\n",
            "Epoch 44/50\n",
            "10000/10000 [==============================] - 1s 64us/sample - loss: 2.1333e-06 - mean_squared_error: 2.1333e-06\n",
            "Epoch 45/50\n",
            "10000/10000 [==============================] - 1s 64us/sample - loss: 2.2691e-06 - mean_squared_error: 2.2691e-06\n",
            "Epoch 46/50\n",
            "10000/10000 [==============================] - 1s 64us/sample - loss: 2.9708e-06 - mean_squared_error: 2.9708e-06\n",
            "Epoch 47/50\n",
            "10000/10000 [==============================] - 1s 64us/sample - loss: 2.4236e-06 - mean_squared_error: 2.4237e-06\n",
            "Epoch 48/50\n",
            "10000/10000 [==============================] - 1s 64us/sample - loss: 2.6693e-06 - mean_squared_error: 2.6693e-06\n",
            "Epoch 49/50\n",
            "10000/10000 [==============================] - 1s 63us/sample - loss: 3.4758e-06 - mean_squared_error: 3.4758e-06\n",
            "Epoch 50/50\n",
            "10000/10000 [==============================] - 1s 65us/sample - loss: 1.9947e-06 - mean_squared_error: 1.9947e-06\n"
          ],
          "name": "stdout"
        },
        {
          "output_type": "execute_result",
          "data": {
            "text/plain": [
              "<tensorflow.python.keras.callbacks.History at 0x7fdba3077630>"
            ]
          },
          "metadata": {
            "tags": []
          },
          "execution_count": 6
        }
      ]
    },
    {
      "cell_type": "code",
      "metadata": {
        "id": "YNaCoY80CJut",
        "colab_type": "code",
        "outputId": "19c14fb6-85b4-4daa-a3d0-3b784620f8d6",
        "colab": {
          "base_uri": "https://localhost:8080/",
          "height": 357
        }
      },
      "source": [
        "# scale test data and validate trained neural net\n",
        "X_test = X_scaler.transform(X_test_unscaled)\n",
        "\n",
        "Y_pred = calc_model.predict(X_test)\n",
        "Y_pred_rescaled = Y_scaler.inverse_transform(Y_pred)\n",
        "\n",
        "print(Y_test_unscaled[0:10])\n",
        "print(Y_pred_rescaled[0:10])"
      ],
      "execution_count": 7,
      "outputs": [
        {
          "output_type": "stream",
          "text": [
            "[[2.66666667]\n",
            " [1.42857143]\n",
            " [3.        ]\n",
            " [3.        ]\n",
            " [0.2       ]\n",
            " [1.05882353]\n",
            " [0.16666667]\n",
            " [0.72727273]\n",
            " [1.        ]\n",
            " [2.375     ]]\n",
            "[[2.6734114 ]\n",
            " [1.4292985 ]\n",
            " [2.9915745 ]\n",
            " [3.0125806 ]\n",
            " [0.17101863]\n",
            " [1.013732  ]\n",
            " [0.14443272]\n",
            " [0.71834105]\n",
            " [0.9721589 ]\n",
            " [2.337902  ]]\n"
          ],
          "name": "stdout"
        }
      ]
    },
    {
      "cell_type": "code",
      "metadata": {
        "id": "xBsGdrQNC5sH",
        "colab_type": "code",
        "outputId": "7c62228c-3bd9-438f-a6c5-aeca78cf99d3",
        "colab": {
          "base_uri": "https://localhost:8080/",
          "height": 221
        }
      },
      "source": [
        "# compute the prediction error\n",
        "error = Y_pred_rescaled - Y_test_unscaled\n",
        "squared_error = error*error\n",
        "\n",
        "print(error[0:10])\n",
        "print(f\"mean error: {np.mean(error)}\")\n",
        "print(f\"mean squared error: {np.mean(squared_error)}\")"
      ],
      "execution_count": 8,
      "outputs": [
        {
          "output_type": "stream",
          "text": [
            "[[ 0.0067447 ]\n",
            " [ 0.00072709]\n",
            " [-0.00842547]\n",
            " [ 0.01258063]\n",
            " [-0.02898137]\n",
            " [-0.04509157]\n",
            " [-0.02223394]\n",
            " [-0.00893167]\n",
            " [-0.02784109]\n",
            " [-0.03709793]]\n",
            "mean error: -0.013494786534755098\n",
            "mean squared error: 0.0007116792672492842\n"
          ],
          "name": "stdout"
        }
      ]
    }
  ]
}